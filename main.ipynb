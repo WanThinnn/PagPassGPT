{
 "cells": [
  {
   "cell_type": "code",
   "execution_count": null,
   "id": "0aeaee88",
   "metadata": {},
   "outputs": [
    {
     "name": "stdout",
     "output_type": "stream",
     "text": [
      "Clean dataset begin.\n",
      "Total num=14344328\n",
      "Retain num=13265314\n",
      "Retain rate:0.9247776542756133\n",
      "Clean dataset done.\n",
      "Split begin.\n",
      "Shuffling passwords.\n",
      "Saving 80% (10612251) of dataset for training in ./dataset/rockyou-cleaned-Train.txt\n",
      "Saving 20% (2653063) of dataset for test in ./dataset/rockyou-cleaned-Test.txt\n",
      "Split done.\n"
     ]
    }
   ],
   "source": [
    "# Prepare datasets\n",
    "!sh ./scripts/preprocess.sh"
   ]
  },
  {
   "cell_type": "code",
   "execution_count": null,
   "id": "de05fccf",
   "metadata": {},
   "outputs": [
    {
     "name": "stdout",
     "output_type": "stream",
     "text": [
      "Load tokenizer.\n",
      "Load dataset.\n",
      "Downloading and preparing dataset text/default to /home/wanthinnn/.cache/huggingface/datasets/text/default-b5ced57950cf027f/0.0.0/cb1e9bd71a82ad27976be3b12b407850fe2837d80c22c5e03a28949843a8ace2...\n",
      "Downloading data files: 100%|███████████████████| 1/1 [00:00<00:00, 8050.49it/s]\n",
      "Extracting data files: 100%|████████████████████| 1/1 [00:00<00:00, 1534.69it/s]\n",
      "Setting num_proc from 10 back to 1 for the train split to disable multiprocessing as it only contains one shard.\n",
      "Dataset text downloaded and prepared to /home/wanthinnn/.cache/huggingface/datasets/text/default-b5ced57950cf027f/0.0.0/cb1e9bd71a82ad27976be3b12b407850fe2837d80c22c5e03a28949843a8ace2. Subsequent calls will reuse this data.\n",
      "Map:  51%|████████▋        | 5432000/10612251 [01:28<01:29, 57605.09 examples/s]"
     ]
    }
   ],
   "source": [
    "# Train a PagPassGPT\n",
    "!sh ./scripts/train.sh"
   ]
  },
  {
   "cell_type": "code",
   "execution_count": null,
   "id": "58e48d36",
   "metadata": {},
   "outputs": [],
   "source": [
    "# Generate passwords\n",
    "!sh ./scripts/generate.sh"
   ]
  },
  {
   "cell_type": "code",
   "execution_count": null,
   "id": "1dad714f",
   "metadata": {},
   "outputs": [],
   "source": [
    "# Evaluate passwords\n",
    "!sh ./scripts/evaluate.sh"
   ]
  }
 ],
 "metadata": {
  "kernelspec": {
   "display_name": "env_wanthinnn",
   "language": "python",
   "name": "python3"
  },
  "language_info": {
   "codemirror_mode": {
    "name": "ipython",
    "version": 3
   },
   "file_extension": ".py",
   "mimetype": "text/x-python",
   "name": "python",
   "nbconvert_exporter": "python",
   "pygments_lexer": "ipython3",
   "version": "3.8.10"
  }
 },
 "nbformat": 4,
 "nbformat_minor": 5
}
