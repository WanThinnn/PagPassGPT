{
 "cells": [
  {
   "cell_type": "code",
   "execution_count": null,
   "id": "0aeaee88",
   "metadata": {},
   "outputs": [
    {
     "name": "stdout",
     "output_type": "stream",
     "text": [
      "Clean dataset begin.\n",
      "Total num=14344328\n",
      "Retain num=13265314\n",
      "Retain rate:0.9247776542756133\n",
      "Clean dataset done.\n",
      "Split begin.\n",
      "Shuffling passwords.\n",
      "Saving 80% (10612251) of dataset for training in ./dataset/rockyou-cleaned-Train.txt\n",
      "Saving 20% (2653063) of dataset for test in ./dataset/rockyou-cleaned-Test.txt\n",
      "Split done.\n"
     ]
    }
   ],
   "source": [
    "# Prepare datasets\n",
    "!sh ./scripts/preprocess.sh"
   ]
  },
  {
   "cell_type": "code",
   "execution_count": 2,
   "id": "de05fccf",
   "metadata": {},
   "outputs": [
    {
     "name": "stdout",
     "output_type": "stream",
     "text": [
      "Load tokenizer.\n",
      "Load dataset.\n",
      "Downloading and preparing dataset text/default to /home/wanthinnn/.cache/huggingface/datasets/text/default-b5ced57950cf027f/0.0.0/cb1e9bd71a82ad27976be3b12b407850fe2837d80c22c5e03a28949843a8ace2...\n",
      "Downloading data files: 100%|███████████████████| 1/1 [00:00<00:00, 8050.49it/s]\n",
      "Extracting data files: 100%|████████████████████| 1/1 [00:00<00:00, 1534.69it/s]\n",
      "Setting num_proc from 10 back to 1 for the train split to disable multiprocessing as it only contains one shard.\n",
      "Dataset text downloaded and prepared to /home/wanthinnn/.cache/huggingface/datasets/text/default-b5ced57950cf027f/0.0.0/cb1e9bd71a82ad27976be3b12b407850fe2837d80c22c5e03a28949843a8ace2. Subsequent calls will reuse this data.\n",
      "Split dataset into training set and validation set.                             \n",
      "Load model config.\n",
      "Num parameters: 21358464\n",
      "GPT2LMHeadModel(\n",
      "  (transformer): GPT2Model(\n",
      "    (wte): Embedding(135, 384)\n",
      "    (wpe): Embedding(32, 384)\n",
      "    (drop): Dropout(p=0.1, inplace=False)\n",
      "    (h): ModuleList(\n",
      "      (0-11): 12 x GPT2Block(\n",
      "        (ln_1): LayerNorm((384,), eps=1e-05, elementwise_affine=True)\n",
      "        (attn): GPT2Attention(\n",
      "          (c_attn): Conv1D()\n",
      "          (c_proj): Conv1D()\n",
      "          (attn_dropout): Dropout(p=0.1, inplace=False)\n",
      "          (resid_dropout): Dropout(p=0.1, inplace=False)\n",
      "        )\n",
      "        (ln_2): LayerNorm((384,), eps=1e-05, elementwise_affine=True)\n",
      "        (mlp): GPT2MLP(\n",
      "          (c_fc): Conv1D()\n",
      "          (c_proj): Conv1D()\n",
      "          (act): NewGELUActivation()\n",
      "          (dropout): Dropout(p=0.1, inplace=False)\n",
      "        )\n",
      "      )\n",
      "    )\n",
      "    (ln_f): LayerNorm((384,), eps=1e-05, elementwise_affine=True)\n",
      "  )\n",
      "  (lm_head): Linear(in_features=384, out_features=135, bias=False)\n",
      ")\n",
      "Load training config.\n",
      "******************************\n",
      "Training begin.\n",
      "/home/wanthinnn/miniconda3/envs/env_wanthinnn/lib/python3.8/site-packages/transformers/optimization.py:407: FutureWarning: This implementation of AdamW is deprecated and will be removed in a future version. Use the PyTorch implementation torch.optim.AdamW instead, or set `no_deprecation_warning=True` to disable this warning\n",
      "  warnings.warn(\n",
      "  0%|                                                | 0/544110 [00:00<?, ?it/s]^C\n"
     ]
    }
   ],
   "source": [
    "# Train a PagPassGPT\n",
    "!sh ./scripts/train.sh"
   ]
  },
  {
   "cell_type": "code",
   "execution_count": null,
   "id": "58e48d36",
   "metadata": {},
   "outputs": [],
   "source": [
    "# Generate passwords\n",
    "!sh ./scripts/generate.sh"
   ]
  },
  {
   "cell_type": "code",
   "execution_count": null,
   "id": "1dad714f",
   "metadata": {},
   "outputs": [],
   "source": [
    "# Evaluate passwords\n",
    "!sh ./scripts/evaluate.sh"
   ]
  }
 ],
 "metadata": {
  "kernelspec": {
   "display_name": "env_wanthinnn",
   "language": "python",
   "name": "python3"
  },
  "language_info": {
   "codemirror_mode": {
    "name": "ipython",
    "version": 3
   },
   "file_extension": ".py",
   "mimetype": "text/x-python",
   "name": "python",
   "nbconvert_exporter": "python",
   "pygments_lexer": "ipython3",
   "version": "3.8.10"
  }
 },
 "nbformat": 4,
 "nbformat_minor": 5
}
