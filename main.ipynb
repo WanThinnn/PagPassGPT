{
 "cells": [
  {
   "cell_type": "code",
   "execution_count": null,
   "id": "0aeaee88",
   "metadata": {},
   "outputs": [],
   "source": [
    "!sh ./scripts/preprocess.sh"
   ]
  }
 ],
 "metadata": {
  "language_info": {
   "name": "python"
  }
 },
 "nbformat": 4,
 "nbformat_minor": 5
}
